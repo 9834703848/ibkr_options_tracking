{
 "cells": [
  {
   "cell_type": "code",
   "execution_count": 22,
   "metadata": {},
   "outputs": [
    {
     "name": "stdout",
     "output_type": "stream",
     "text": [
      "Current Positions:\n",
      "Symbol: SPY, Security Type: OPT, Position: -1.0, strike: 496.0, type: P,Average Cost: 24.3649\n",
      "Symbol: SPY, Security Type: OPT, Position: -1.0, strike: 570.0, type: C,Average Cost: 15.1951\n",
      "Symbol: SPY, Security Type: OPT, Position: -1.0, strike: 522.0, type: P,Average Cost: 21.3649\n",
      "Symbol: SPY, Security Type: OPT, Position: -1.0, strike: 528.0, type: P,Average Cost: 15.9451\n",
      "Symbol: SPY, Security Type: OPT, Position: -1.0, strike: 572.0, type: C,Average Cost: 12.3652\n",
      "Symbol: SPY, Security Type: OPT, Position: -1.0, strike: 495.0, type: P,Average Cost: 14.1951\n",
      "Symbol: SPY, Security Type: OPT, Position: -1.0, strike: 487.0, type: P,Average Cost: 16.3651\n",
      "Symbol: SPY, Security Type: OPT, Position: -1.0, strike: 570.0, type: C,Average Cost: 20.3685\n",
      "Symbol: SPY, Security Type: OPT, Position: -1.0, strike: 480.0, type: P,Average Cost: 21.3649\n",
      "Symbol: SPY, Security Type: OPT, Position: -1.0, strike: 571.0, type: C,Average Cost: 10.3653\n",
      "Symbol: SPY, Security Type: OPT, Position: -1.0, strike: 572.0, type: C,Average Cost: 14.1951\n",
      "Symbol: SPY, Security Type: OPT, Position: -1.0, strike: 564.0, type: C,Average Cost: 7.9653\n",
      "Symbol: SPY, Security Type: OPT, Position: -1.0, strike: 564.0, type: C,Average Cost: 10.3653\n",
      "Symbol: SPY, Security Type: OPT, Position: -1.0, strike: 513.0, type: P,Average Cost: 16.1951\n",
      "Symbol: SPY, Security Type: OPT, Position: -1.0, strike: 573.0, type: C,Average Cost: 16.3651\n",
      "Symbol: SPY, Security Type: OPT, Position: -1.0, strike: 566.0, type: C,Average Cost: 11.3652\n",
      "Symbol: SPY, Security Type: OPT, Position: -1.0, strike: 566.0, type: C,Average Cost: 16.9451\n",
      "Symbol: SPY, Security Type: OPT, Position: -1.0, strike: 515.0, type: P,Average Cost: 18.365\n",
      "Symbol: SPY, Security Type: OPT, Position: -1.0, strike: 568.0, type: C,Average Cost: 10.3653\n",
      "Symbol: SPY, Security Type: OPT, Position: -1.0, strike: 508.0, type: P,Average Cost: 24.3649\n",
      "Symbol: SPY, Security Type: OPT, Position: -1.0, strike: 569.0, type: C,Average Cost: 10.3653\n",
      "Symbol: SPY, Security Type: OPT, Position: -1.0, strike: 505.0, type: P,Average Cost: 18.3685\n",
      "Symbol: SPY, Security Type: OPT, Position: -1.0, strike: 530.0, type: P,Average Cost: 20.365\n"
     ]
    }
   ],
   "source": [
    "from ib_insync import *\n",
    "\n",
    "# Initialize IB instance\n",
    "ib = IB()\n",
    "\n",
    "# Asynchronously connect to the IBKR paper trading platform\n",
    "await ib.connectAsync('127.0.0.1', 7497, clientId=8)  # Use connectAsync for environments with an existing event loop\n",
    "\n",
    "# Fetch the current positions from the account\n",
    "positions = ib.positions()\n",
    "\n",
    "# Print the current positions with details\n",
    "if positions:\n",
    "    print(\"Current Positions:\")\n",
    "    for position in positions:\n",
    "        contract = position.contract\n",
    "        print(f'Symbol: {contract.symbol}, '\n",
    "              f'Security Type: {contract.secType}, '\n",
    "              f'Position: {position.position}, '\n",
    "              f'strike: {contract.strike}, '\n",
    "              f'type: {contract.right},'\n",
    "              f'Average Cost: {position.avgCost}')\n",
    "else:\n",
    "    print(\"No positions found.\")\n",
    "\n",
    "# Disconnect from the IBKR paper trading platform\n",
    "ib.disconnect()\n"
   ]
  },
  {
   "cell_type": "code",
   "execution_count": 23,
   "metadata": {},
   "outputs": [
    {
     "data": {
      "text/plain": [
       "Position(account='DU8169613', contract=Option(conId=725519767, symbol='SPY', lastTradeDateOrContractMonth='20240910', strike=530.0, right='P', multiplier='100', currency='USD', localSymbol='SPY   240910P00530000', tradingClass='SPY'), position=-1.0, avgCost=20.365)"
      ]
     },
     "execution_count": 23,
     "metadata": {},
     "output_type": "execute_result"
    }
   ],
   "source": [
    "position"
   ]
  },
  {
   "cell_type": "code",
   "execution_count": 17,
   "metadata": {},
   "outputs": [
    {
     "data": {
      "text/plain": [
       "Option(conId=725519767, symbol='SPY', lastTradeDateOrContractMonth='20240910', strike=530.0, right='P', multiplier='100', currency='USD', localSymbol='SPY   240910P00530000', tradingClass='SPY')"
      ]
     },
     "execution_count": 17,
     "metadata": {},
     "output_type": "execute_result"
    }
   ],
   "source": [
    "contract"
   ]
  }
 ],
 "metadata": {
  "kernelspec": {
   "display_name": "ibkr",
   "language": "python",
   "name": "python3"
  },
  "language_info": {
   "codemirror_mode": {
    "name": "ipython",
    "version": 3
   },
   "file_extension": ".py",
   "mimetype": "text/x-python",
   "name": "python",
   "nbconvert_exporter": "python",
   "pygments_lexer": "ipython3",
   "version": "3.9.19"
  }
 },
 "nbformat": 4,
 "nbformat_minor": 2
}
